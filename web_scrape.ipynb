{
 "cells": [
  {
   "cell_type": "code",
   "execution_count": 3,
   "metadata": {},
   "outputs": [],
   "source": [
    "from selenium import webdriver\n",
    "import regex as re\n",
    "import time\n",
    "import pickle\n",
    "import numpy as np\n",
    "from ReviewExtractor import ReviewExtract"
   ]
  },
  {
   "cell_type": "code",
   "execution_count": 10,
   "metadata": {},
   "outputs": [
    {
     "name": "stdout",
     "output_type": "stream",
     "text": [
      "... Getting one_star ratings ...\n",
      "\n",
      "\n",
      "Number of reviews for one_star : 1500\n",
      "Number of ratings for one_star : 1500\n",
      "... Getting two_star ratings ...\n",
      "\n",
      "\n",
      "Number of reviews for two_star : 500\n",
      "Number of ratings for two_star : 500\n",
      "... Getting three_star ratings ...\n",
      "\n",
      "\n",
      "Number of reviews for three_star : 1490\n",
      "Number of ratings for three_star : 1490\n",
      "... Getting four_star ratings ...\n",
      "\n",
      "\n",
      "Number of reviews for four_star : 4980\n",
      "Number of ratings for four_star : 4980\n",
      "... Getting five_star ratings ...\n",
      "\n",
      "\n",
      "Number of reviews for five_star : 4980\n",
      "Number of ratings for five_star : 4980\n"
     ]
    }
   ],
   "source": [
    "def main():\n",
    "\n",
    "    # iterate through star ratings reviews #\n",
    "    ratings = ['one_star', 'two_star', 'three_star', 'four_star', 'five_star']\n",
    "    reviews_dict = {}\n",
    "    for rating in ratings:    \n",
    "        print(f'... Getting {rating} ratings ...')\n",
    "        print('')\n",
    "        part_1 = 'https://www.amazon.co.uk/Amazon-Fire-7-Inch-Tablet-8GB/product-reviews/'\n",
    "        part_2 = 'B00Y3TM6CO/ref=cm_cr_getr_d_paging_btm_prev_'\n",
    "        part_3 = '?ie=UTF8&reviewerType=all_reviews&pageNumber='\n",
    "        part_4 = f'&filterByStar={rating}'\n",
    "        webpage_parts = [part_1, part_2, part_3, part_4]\n",
    "        review_extracter = ReviewExtract(webpage_parts)\n",
    "        reviews_all, star_ratings_all = review_extracter.scraper()\n",
    "        reviews_dict[rating] = (reviews_all, star_ratings_all)\n",
    "        print('')\n",
    "        print(f'Number of reviews for {rating} : {len(reviews_all)}')\n",
    "        print(f'Number of ratings for {rating} : {len(star_ratings_all)}')\n",
    "    with open(\"reviews\", \"wb\") as fp:\n",
    "        pickle.dump(reviews_dict, fp)\n",
    "\n",
    "\n",
    "if __name__ == '__main__':\n",
    "    main()"
   ]
  }
 ],
 "metadata": {
  "kernelspec": {
   "display_name": "Python 3.10.6 64-bit",
   "language": "python",
   "name": "python3"
  },
  "language_info": {
   "codemirror_mode": {
    "name": "ipython",
    "version": 3
   },
   "file_extension": ".py",
   "mimetype": "text/x-python",
   "name": "python",
   "nbconvert_exporter": "python",
   "pygments_lexer": "ipython3",
   "version": "3.10.6"
  },
  "orig_nbformat": 4,
  "vscode": {
   "interpreter": {
    "hash": "aee8b7b246df8f9039afb4144a1f6fd8d2ca17a180786b69acc140d282b71a49"
   }
  }
 },
 "nbformat": 4,
 "nbformat_minor": 2
}
